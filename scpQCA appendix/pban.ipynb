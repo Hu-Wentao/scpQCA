{
 "cells": [
  {
   "cell_type": "code",
   "execution_count": 1,
   "metadata": {},
   "outputs": [],
   "source": [
    "import pandas as pd\n",
    "import scpQCA"
   ]
  },
  {
   "cell_type": "code",
   "execution_count": 4,
   "metadata": {},
   "outputs": [
    {
     "data": {
      "text/html": [
       "<div>\n",
       "<style scoped>\n",
       "    .dataframe tbody tr th:only-of-type {\n",
       "        vertical-align: middle;\n",
       "    }\n",
       "\n",
       "    .dataframe tbody tr th {\n",
       "        vertical-align: top;\n",
       "    }\n",
       "\n",
       "    .dataframe thead th {\n",
       "        text-align: right;\n",
       "    }\n",
       "</style>\n",
       "<table border=\"1\" class=\"dataframe\">\n",
       "  <thead>\n",
       "    <tr style=\"text-align: right;\">\n",
       "      <th></th>\n",
       "      <th>Unnamed: 0</th>\n",
       "      <th>C</th>\n",
       "      <th>F</th>\n",
       "      <th>T</th>\n",
       "      <th>V</th>\n",
       "      <th>PB</th>\n",
       "    </tr>\n",
       "  </thead>\n",
       "  <tbody>\n",
       "    <tr>\n",
       "      <th>0</th>\n",
       "      <td>Angola</td>\n",
       "      <td>0</td>\n",
       "      <td>2</td>\n",
       "      <td>1</td>\n",
       "      <td>1</td>\n",
       "      <td>1</td>\n",
       "    </tr>\n",
       "    <tr>\n",
       "      <th>1</th>\n",
       "      <td>Benin</td>\n",
       "      <td>1</td>\n",
       "      <td>2</td>\n",
       "      <td>1</td>\n",
       "      <td>0</td>\n",
       "      <td>1</td>\n",
       "    </tr>\n",
       "    <tr>\n",
       "      <th>2</th>\n",
       "      <td>Botswana</td>\n",
       "      <td>0</td>\n",
       "      <td>0</td>\n",
       "      <td>0</td>\n",
       "      <td>0</td>\n",
       "      <td>0</td>\n",
       "    </tr>\n",
       "    <tr>\n",
       "      <th>3</th>\n",
       "      <td>BurkinaFaso</td>\n",
       "      <td>1</td>\n",
       "      <td>2</td>\n",
       "      <td>2</td>\n",
       "      <td>0</td>\n",
       "      <td>1</td>\n",
       "    </tr>\n",
       "    <tr>\n",
       "      <th>4</th>\n",
       "      <td>Burundi</td>\n",
       "      <td>0</td>\n",
       "      <td>2</td>\n",
       "      <td>2</td>\n",
       "      <td>1</td>\n",
       "      <td>1</td>\n",
       "    </tr>\n",
       "  </tbody>\n",
       "</table>\n",
       "</div>"
      ],
      "text/plain": [
       "    Unnamed: 0  C  F  T  V  PB\n",
       "0       Angola  0  2  1  1   1\n",
       "1        Benin  1  2  1  0   1\n",
       "2     Botswana  0  0  0  0   0\n",
       "3  BurkinaFaso  1  2  2  0   1\n",
       "4      Burundi  0  2  2  1   1"
      ]
     },
     "execution_count": 4,
     "metadata": {},
     "output_type": "execute_result"
    }
   ],
   "source": [
    "data=pd.read_csv(r'D:/code/scpQCA/paper code/pban.csv', encoding='ISO-8859-1')\n",
    "data.head()"
   ]
  },
  {
   "cell_type": "code",
   "execution_count": 14,
   "metadata": {},
   "outputs": [
    {
     "name": "stdout",
     "output_type": "stream",
     "text": [
      "Running...please wait. There are 16 factor combinations.\n",
      "There are 8 candidate rules in total.\n",
      "   C  F  T  V  number consistency coverage\n",
      "0  -  0  -  1       2      1.0000   0.3333\n",
      "1  0  -  0  0       2      1.0000   0.3333\n",
      "2  0  -  0  -       3      1.0000   0.5000\n",
      "3  0  0  -  1       2      1.0000   0.3333\n",
      "4  0  0  -  0       2      1.0000   0.3333\n",
      "5  0  0  0  0       2      1.0000   0.3333\n",
      "6  0  0  0  -       3      1.0000   0.5000\n",
      "7  0  0  -  -       4      1.0000   0.6667\n"
     ]
    }
   ],
   "source": [
    "feature_list=['Unnamed: 0', 'C', 'F', 'T', 'V', 'PB']\n",
    "test=scpQCA.scpQCA(data[feature_list],decision_name='PB',caseid='Unnamed: 0')\n",
    "test.search_necessity(decision_label=0,feature_list=feature_list,consistency_threshold=0.9)\n",
    "rules=test.candidate_rules(decision_label=0,feature_list=feature_list,consistency=0.8,cutoff=2,rule_length=4)\n",
    "table=test.scp_truth_table(rules=rules,feature_list=feature_list,decision_label=0)"
   ]
  },
  {
   "cell_type": "code",
   "execution_count": 13,
   "metadata": {},
   "outputs": [
    {
     "name": "stdout",
     "output_type": "stream",
     "text": [
      "consistency = 1.0 and coverage = 0.6666666666666666\n",
      "['C==0 & F==0']\n"
     ]
    }
   ],
   "source": [
    "config,issue=test.greedy(rules=rules,decision_label=0,unique_cover=2)\n",
    "test.cov_n_con(decision_label=0, configuration=config, issue_sets=issue)\n",
    "print(config)"
   ]
  },
  {
   "cell_type": "code",
   "execution_count": 18,
   "metadata": {},
   "outputs": [
    {
     "data": {
      "text/plain": [
       "34"
      ]
     },
     "execution_count": 18,
     "metadata": {},
     "output_type": "execute_result"
    }
   ],
   "source": [
    "len(data.query('T==2'))"
   ]
  },
  {
   "cell_type": "code",
   "execution_count": 13,
   "metadata": {},
   "outputs": [
    {
     "name": "stdout",
     "output_type": "stream",
     "text": [
      "['Angola', 'Benin', 'BurkinaFaso', 'Burundi', 'CapeVerde', 'Chad', 'Comores', 'CongoDR', 'Congo', 'Djibouti', 'EquatorialGuinea', 'Eritrea', 'Ethiopia', 'Gabon', 'Ghana', 'GuineaBisseau', 'Guinea', 'Lesotho', 'Liberia', 'Mauritania', 'Mozambique', 'Niger', 'Somalia', 'Sudan', 'Swaziland', 'Uganda']\n"
     ]
    }
   ],
   "source": [
    "print(list(data.query('F==2')['Unnamed: 0']))"
   ]
  },
  {
   "attachments": {},
   "cell_type": "markdown",
   "metadata": {},
   "source": [
    "##### unique cover"
   ]
  },
  {
   "cell_type": "code",
   "execution_count": 30,
   "metadata": {},
   "outputs": [
    {
     "name": "stdout",
     "output_type": "stream",
     "text": [
      "17\n",
      "{0, 1, 3, 4, 7, 8, 9, 10, 11, 13, 14, 15, 16, 17, 18, 19, 20, 21, 23, 24, 26, 28, 30, 31, 33, 34, 35, 37, 38, 39, 41, 42, 45}\n",
      "{36, 5, 6, 12, 44, 25, 27}\n",
      "\n",
      "26\n",
      "{1, 3, 4, 5, 6, 7, 8, 9, 10, 11, 12, 13, 14, 15, 16, 17, 18, 19, 20, 21, 23, 24, 25, 26, 27, 28, 31, 33, 34, 35, 36, 37, 38, 39, 42, 44}\n",
      "{0, 41, 45, 30}\n",
      "\n",
      "12\n",
      "{0, 1, 3, 4, 5, 6, 7, 8, 9, 10, 11, 12, 13, 14, 15, 16, 17, 18, 19, 20, 21, 23, 24, 25, 26, 27, 28, 30, 31, 33, 36, 38, 39, 41, 42, 44, 45}\n",
      "{34, 35, 37}\n",
      "\n",
      "7\n",
      "{0, 1, 3, 4, 5, 6, 7, 8, 9, 10, 11, 12, 13, 14, 15, 16, 17, 19, 20, 21, 23, 24, 25, 27, 28, 30, 33, 34, 35, 36, 37, 39, 41, 42, 44, 45}\n",
      "{18, 26, 38, 31}\n",
      "\n",
      "consistency = 1.0 and coverage = 0.9523809523809523\n"
     ]
    },
    {
     "data": {
      "text/plain": [
       "0.9523809523809523"
      ]
     },
     "execution_count": 30,
     "metadata": {},
     "output_type": "execute_result"
    }
   ],
   "source": [
    "config1='C==1'\n",
    "config2='F==2'\n",
    "config3='C==0 & T==2'\n",
    "config4='C==2 & V==0'\n",
    "config=[config1,config2,config3,config4]\n",
    "issue=set()\n",
    "for c in config:\n",
    "    cset=set(list(data.query(c).index))\n",
    "    issue=issue.union(cset)\n",
    "    others=set()\n",
    "    for i in config:\n",
    "        if i != c:\n",
    "            others=others.union(set(list(data.query(i).index)))\n",
    "    print(len(cset))\n",
    "    print(others)\n",
    "    print(cset-others)\n",
    "    print()\n",
    "test.cov_n_con(decision_label=1, configuration=config, issue_sets=issue)"
   ]
  },
  {
   "cell_type": "code",
   "execution_count": null,
   "metadata": {},
   "outputs": [],
   "source": []
  }
 ],
 "metadata": {
  "kernelspec": {
   "display_name": "Python 3",
   "language": "python",
   "name": "python3"
  },
  "language_info": {
   "codemirror_mode": {
    "name": "ipython",
    "version": 3
   },
   "file_extension": ".py",
   "mimetype": "text/x-python",
   "name": "python",
   "nbconvert_exporter": "python",
   "pygments_lexer": "ipython3",
   "version": "3.10.6"
  },
  "orig_nbformat": 4,
  "vscode": {
   "interpreter": {
    "hash": "34f0fb4941c31d8aac11b2fef9c9829c34cc11b1b20597ae5a25749ba78141d3"
   }
  }
 },
 "nbformat": 4,
 "nbformat_minor": 2
}
